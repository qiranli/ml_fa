{
 "cells": [
  {
   "cell_type": "markdown",
   "metadata": {},
   "source": [
    "# EDA Notebook for Analysis of fin ratios"
   ]
  },
  {
   "cell_type": "markdown",
   "metadata": {},
   "source": [
    "### Understanding the trend of different financial ratios and metric is a critical part in analysis of business. This notebook explores those trends to give the sense of stability of business, growth hsitory, returns and margins. "
   ]
  },
  {
   "cell_type": "code",
   "execution_count": 1,
   "metadata": {
    "collapsed": true
   },
   "outputs": [],
   "source": [
    "import pandas as pd\n",
    "import numpy as np\n",
    "import sys\n",
    "sys.path.append(\"..\")\n",
    "import matplotlib.pyplot as plt\n",
    "%matplotlib inline\n",
    "import seaborn as sns\n",
    "\n",
    "from data.scripts.simplified_finance_stats.fin_stats import fin_stats\n",
    "from data.scripts.simplified_finance_stats.fin_ratios import get_ratios\n",
    "from data.scripts.simplified_finance_stats.fin_stats_2 import fin_stats_2\n",
    "from report_13f import company_13f\n",
    "from data.scripts.build_training_data.train_data import train_data\n",
    "from data.scripts.simplified_finance_stats.stock_stats import stock_stats\n",
    "\n",
    "pd.options.display.max_rows = 999"
   ]
  },
  {
   "cell_type": "code",
   "execution_count": 2,
   "metadata": {
    "collapsed": true
   },
   "outputs": [],
   "source": [
    "# Set path for data\n",
    "base_path = '../data/'\n",
    "sheets_path = 'combined_simplified/combined_all_us.csv' \n",
    "other_path = 'combined_simplified/others_all_us.csv'\n",
    "mkt_path = 'combined_simplified/stock_stats_all_us.csv'"
   ]
  },
  {
   "cell_type": "markdown",
   "metadata": {},
   "source": [
    "Three kinds of data are used here.\n",
    "1. The basic fundamental financial data from balance sheet, income statement and cash flow statement\n",
    "2. Other financial data not included in the above statements\n",
    "3. Market data related to the stock such as mkt_cap, price etc"
   ]
  },
  {
   "cell_type": "code",
   "execution_count": 3,
   "metadata": {
    "scrolled": true
   },
   "outputs": [
    {
     "name": "stdout",
     "output_type": "stream",
     "text": [
      "Total Missing tickers: 181\n",
      "Total Missing tickers: 181\n",
      "Total Missing tickers: 181\n"
     ]
    }
   ],
   "source": [
    "# setup all data\n",
    "finances = fin_stats(base_path + sheets_path)\n",
    "fin_others = fin_stats_2(base_path + other_path)\n",
    "mkt_data = stock_stats(base_path + mkt_path)"
   ]
  },
  {
   "cell_type": "code",
   "execution_count": 4,
   "metadata": {
    "collapsed": true
   },
   "outputs": [],
   "source": [
    "tick = 'FB'\n",
    "b = finances.get_sheet(tick,\"balance_sheet\")\n",
    "i = finances.get_sheet(tick,\"income_sheet\")\n",
    "c = finances.get_sheet(tick,\"cashflow_sheet\")\n",
    "o = fin_others.get_sheet(tick)\n",
    "mk = mkt_data.get_stock_data(tick)\n",
    "\n",
    "# combine all dataset\n",
    "all_fin_data = pd.concat([b,i,c,o,mk])"
   ]
  },
  {
   "cell_type": "markdown",
   "metadata": {},
   "source": [
    "Build ratios dataframe from the above data"
   ]
  },
  {
   "cell_type": "code",
   "execution_count": 5,
   "metadata": {
    "collapsed": true
   },
   "outputs": [],
   "source": [
    "df_ratios = get_ratios(b,i,c,o,mk)"
   ]
  },
  {
   "cell_type": "code",
   "execution_count": 6,
   "metadata": {},
   "outputs": [
    {
     "data": {
      "text/html": [
       "<div>\n",
       "<style>\n",
       "    .dataframe thead tr:only-child th {\n",
       "        text-align: right;\n",
       "    }\n",
       "\n",
       "    .dataframe thead th {\n",
       "        text-align: left;\n",
       "    }\n",
       "\n",
       "    .dataframe tbody tr th {\n",
       "        vertical-align: top;\n",
       "    }\n",
       "</style>\n",
       "<table border=\"1\" class=\"dataframe\">\n",
       "  <thead>\n",
       "    <tr style=\"text-align: right;\">\n",
       "      <th></th>\n",
       "      <th>2012</th>\n",
       "      <th>2013</th>\n",
       "      <th>2014</th>\n",
       "      <th>2015</th>\n",
       "      <th>2016</th>\n",
       "    </tr>\n",
       "  </thead>\n",
       "  <tbody>\n",
       "    <tr>\n",
       "      <th>che</th>\n",
       "      <td>9626.0</td>\n",
       "      <td>11449.0</td>\n",
       "      <td>11199.0</td>\n",
       "      <td>18434.0</td>\n",
       "      <td>29449.0</td>\n",
       "    </tr>\n",
       "    <tr>\n",
       "      <th>rect</th>\n",
       "      <td>1170.0</td>\n",
       "      <td>1160.0</td>\n",
       "      <td>1678.0</td>\n",
       "      <td>2559.0</td>\n",
       "      <td>3993.0</td>\n",
       "    </tr>\n",
       "    <tr>\n",
       "      <th>invt</th>\n",
       "      <td>0.0</td>\n",
       "      <td>0.0</td>\n",
       "      <td>0.0</td>\n",
       "      <td>0.0</td>\n",
       "      <td>0.0</td>\n",
       "    </tr>\n",
       "    <tr>\n",
       "      <th>aco</th>\n",
       "      <td>471.0</td>\n",
       "      <td>461.0</td>\n",
       "      <td>793.0</td>\n",
       "      <td>659.0</td>\n",
       "      <td>959.0</td>\n",
       "    </tr>\n",
       "    <tr>\n",
       "      <th>act</th>\n",
       "      <td>11267.0</td>\n",
       "      <td>13070.0</td>\n",
       "      <td>13670.0</td>\n",
       "      <td>21652.0</td>\n",
       "      <td>34401.0</td>\n",
       "    </tr>\n",
       "    <tr>\n",
       "      <th>ppent</th>\n",
       "      <td>2391.0</td>\n",
       "      <td>2882.0</td>\n",
       "      <td>3967.0</td>\n",
       "      <td>5687.0</td>\n",
       "      <td>8591.0</td>\n",
       "    </tr>\n",
       "    <tr>\n",
       "      <th>ivaeq</th>\n",
       "      <td>0.0</td>\n",
       "      <td>0.0</td>\n",
       "      <td>0.0</td>\n",
       "      <td>0.0</td>\n",
       "      <td>0.0</td>\n",
       "    </tr>\n",
       "    <tr>\n",
       "      <th>ivao</th>\n",
       "      <td>0.0</td>\n",
       "      <td>0.0</td>\n",
       "      <td>0.0</td>\n",
       "      <td>0.0</td>\n",
       "      <td>0.0</td>\n",
       "    </tr>\n",
       "    <tr>\n",
       "      <th>intan</th>\n",
       "      <td>1388.0</td>\n",
       "      <td>1722.0</td>\n",
       "      <td>21910.0</td>\n",
       "      <td>21272.0</td>\n",
       "      <td>20657.0</td>\n",
       "    </tr>\n",
       "    <tr>\n",
       "      <th>ao</th>\n",
       "      <td>57.0</td>\n",
       "      <td>221.0</td>\n",
       "      <td>637.0</td>\n",
       "      <td>796.0</td>\n",
       "      <td>1312.0</td>\n",
       "    </tr>\n",
       "    <tr>\n",
       "      <th>at</th>\n",
       "      <td>15103.0</td>\n",
       "      <td>17895.0</td>\n",
       "      <td>40184.0</td>\n",
       "      <td>49407.0</td>\n",
       "      <td>64961.0</td>\n",
       "    </tr>\n",
       "    <tr>\n",
       "      <th>dlc</th>\n",
       "      <td>365.0</td>\n",
       "      <td>239.0</td>\n",
       "      <td>114.0</td>\n",
       "      <td>208.0</td>\n",
       "      <td>0.0</td>\n",
       "    </tr>\n",
       "    <tr>\n",
       "      <th>ap</th>\n",
       "      <td>65.0</td>\n",
       "      <td>87.0</td>\n",
       "      <td>176.0</td>\n",
       "      <td>196.0</td>\n",
       "      <td>302.0</td>\n",
       "    </tr>\n",
       "    <tr>\n",
       "      <th>txp</th>\n",
       "      <td>0.0</td>\n",
       "      <td>0.0</td>\n",
       "      <td>0.0</td>\n",
       "      <td>0.0</td>\n",
       "      <td>0.0</td>\n",
       "    </tr>\n",
       "    <tr>\n",
       "      <th>lco</th>\n",
       "      <td>622.0</td>\n",
       "      <td>774.0</td>\n",
       "      <td>1134.0</td>\n",
       "      <td>1521.0</td>\n",
       "      <td>2573.0</td>\n",
       "    </tr>\n",
       "    <tr>\n",
       "      <th>lct</th>\n",
       "      <td>1052.0</td>\n",
       "      <td>1100.0</td>\n",
       "      <td>1424.0</td>\n",
       "      <td>1925.0</td>\n",
       "      <td>2875.0</td>\n",
       "    </tr>\n",
       "    <tr>\n",
       "      <th>dltt</th>\n",
       "      <td>1991.0</td>\n",
       "      <td>237.0</td>\n",
       "      <td>119.0</td>\n",
       "      <td>107.0</td>\n",
       "      <td>0.0</td>\n",
       "    </tr>\n",
       "    <tr>\n",
       "      <th>txditc</th>\n",
       "      <td>0.0</td>\n",
       "      <td>0.0</td>\n",
       "      <td>987.0</td>\n",
       "      <td>163.0</td>\n",
       "      <td>0.0</td>\n",
       "    </tr>\n",
       "    <tr>\n",
       "      <th>lo</th>\n",
       "      <td>305.0</td>\n",
       "      <td>1088.0</td>\n",
       "      <td>1558.0</td>\n",
       "      <td>2994.0</td>\n",
       "      <td>2892.0</td>\n",
       "    </tr>\n",
       "    <tr>\n",
       "      <th>lt</th>\n",
       "      <td>3348.0</td>\n",
       "      <td>2425.0</td>\n",
       "      <td>4088.0</td>\n",
       "      <td>5189.0</td>\n",
       "      <td>5767.0</td>\n",
       "    </tr>\n",
       "    <tr>\n",
       "      <th>mib</th>\n",
       "      <td>0.0</td>\n",
       "      <td>0.0</td>\n",
       "      <td>0.0</td>\n",
       "      <td>0.0</td>\n",
       "      <td>0.0</td>\n",
       "    </tr>\n",
       "    <tr>\n",
       "      <th>pstk</th>\n",
       "      <td>0.0</td>\n",
       "      <td>0.0</td>\n",
       "      <td>0.0</td>\n",
       "      <td>0.0</td>\n",
       "      <td>0.0</td>\n",
       "    </tr>\n",
       "    <tr>\n",
       "      <th>ceq</th>\n",
       "      <td>11755.0</td>\n",
       "      <td>15470.0</td>\n",
       "      <td>36096.0</td>\n",
       "      <td>44218.0</td>\n",
       "      <td>59194.0</td>\n",
       "    </tr>\n",
       "    <tr>\n",
       "      <th>seq</th>\n",
       "      <td>11755.0</td>\n",
       "      <td>15470.0</td>\n",
       "      <td>36096.0</td>\n",
       "      <td>44218.0</td>\n",
       "      <td>59194.0</td>\n",
       "    </tr>\n",
       "  </tbody>\n",
       "</table>\n",
       "</div>"
      ],
      "text/plain": [
       "           2012     2013     2014     2015     2016\n",
       "che      9626.0  11449.0  11199.0  18434.0  29449.0\n",
       "rect     1170.0   1160.0   1678.0   2559.0   3993.0\n",
       "invt        0.0      0.0      0.0      0.0      0.0\n",
       "aco       471.0    461.0    793.0    659.0    959.0\n",
       "act     11267.0  13070.0  13670.0  21652.0  34401.0\n",
       "ppent    2391.0   2882.0   3967.0   5687.0   8591.0\n",
       "ivaeq       0.0      0.0      0.0      0.0      0.0\n",
       "ivao        0.0      0.0      0.0      0.0      0.0\n",
       "intan    1388.0   1722.0  21910.0  21272.0  20657.0\n",
       "ao         57.0    221.0    637.0    796.0   1312.0\n",
       "at      15103.0  17895.0  40184.0  49407.0  64961.0\n",
       "dlc       365.0    239.0    114.0    208.0      0.0\n",
       "ap         65.0     87.0    176.0    196.0    302.0\n",
       "txp         0.0      0.0      0.0      0.0      0.0\n",
       "lco       622.0    774.0   1134.0   1521.0   2573.0\n",
       "lct      1052.0   1100.0   1424.0   1925.0   2875.0\n",
       "dltt     1991.0    237.0    119.0    107.0      0.0\n",
       "txditc      0.0      0.0    987.0    163.0      0.0\n",
       "lo        305.0   1088.0   1558.0   2994.0   2892.0\n",
       "lt       3348.0   2425.0   4088.0   5189.0   5767.0\n",
       "mib         0.0      0.0      0.0      0.0      0.0\n",
       "pstk        0.0      0.0      0.0      0.0      0.0\n",
       "ceq     11755.0  15470.0  36096.0  44218.0  59194.0\n",
       "seq     11755.0  15470.0  36096.0  44218.0  59194.0"
      ]
     },
     "execution_count": 6,
     "metadata": {},
     "output_type": "execute_result"
    }
   ],
   "source": [
    "b"
   ]
  },
  {
   "cell_type": "code",
   "execution_count": 7,
   "metadata": {},
   "outputs": [
    {
     "data": {
      "text/html": [
       "<div>\n",
       "<style>\n",
       "    .dataframe thead tr:only-child th {\n",
       "        text-align: right;\n",
       "    }\n",
       "\n",
       "    .dataframe thead th {\n",
       "        text-align: left;\n",
       "    }\n",
       "\n",
       "    .dataframe tbody tr th {\n",
       "        vertical-align: top;\n",
       "    }\n",
       "</style>\n",
       "<table border=\"1\" class=\"dataframe\">\n",
       "  <thead>\n",
       "    <tr style=\"text-align: right;\">\n",
       "      <th></th>\n",
       "      <th>2012</th>\n",
       "      <th>2013</th>\n",
       "      <th>2014</th>\n",
       "      <th>2015</th>\n",
       "      <th>2016</th>\n",
       "    </tr>\n",
       "  </thead>\n",
       "  <tbody>\n",
       "    <tr>\n",
       "      <th>revt</th>\n",
       "      <td>5089.00</td>\n",
       "      <td>7872.00</td>\n",
       "      <td>12466.00</td>\n",
       "      <td>17928.00</td>\n",
       "      <td>27638.00</td>\n",
       "    </tr>\n",
       "    <tr>\n",
       "      <th>cogs</th>\n",
       "      <td>720.00</td>\n",
       "      <td>756.00</td>\n",
       "      <td>945.00</td>\n",
       "      <td>917.00</td>\n",
       "      <td>1448.00</td>\n",
       "    </tr>\n",
       "    <tr>\n",
       "      <th>xsga</th>\n",
       "      <td>3187.00</td>\n",
       "      <td>3193.00</td>\n",
       "      <td>5297.00</td>\n",
       "      <td>8767.00</td>\n",
       "      <td>11356.00</td>\n",
       "    </tr>\n",
       "    <tr>\n",
       "      <th>oibdp</th>\n",
       "      <td>1182.00</td>\n",
       "      <td>3923.00</td>\n",
       "      <td>6224.00</td>\n",
       "      <td>8244.00</td>\n",
       "      <td>14834.00</td>\n",
       "    </tr>\n",
       "    <tr>\n",
       "      <th>oiadp</th>\n",
       "      <td>538.00</td>\n",
       "      <td>2921.00</td>\n",
       "      <td>4982.00</td>\n",
       "      <td>6294.00</td>\n",
       "      <td>12493.00</td>\n",
       "    </tr>\n",
       "    <tr>\n",
       "      <th>xint</th>\n",
       "      <td>51.00</td>\n",
       "      <td>56.00</td>\n",
       "      <td>23.00</td>\n",
       "      <td>23.00</td>\n",
       "      <td>10.00</td>\n",
       "    </tr>\n",
       "    <tr>\n",
       "      <th>nopi</th>\n",
       "      <td>7.00</td>\n",
       "      <td>6.00</td>\n",
       "      <td>-61.00</td>\n",
       "      <td>-8.00</td>\n",
       "      <td>101.00</td>\n",
       "    </tr>\n",
       "    <tr>\n",
       "      <th>spi</th>\n",
       "      <td>0.00</td>\n",
       "      <td>-117.00</td>\n",
       "      <td>12.00</td>\n",
       "      <td>-69.00</td>\n",
       "      <td>-66.00</td>\n",
       "    </tr>\n",
       "    <tr>\n",
       "      <th>pi</th>\n",
       "      <td>494.00</td>\n",
       "      <td>2754.00</td>\n",
       "      <td>4910.00</td>\n",
       "      <td>6194.00</td>\n",
       "      <td>12518.00</td>\n",
       "    </tr>\n",
       "    <tr>\n",
       "      <th>txt</th>\n",
       "      <td>441.00</td>\n",
       "      <td>1254.00</td>\n",
       "      <td>1970.00</td>\n",
       "      <td>2506.00</td>\n",
       "      <td>2301.00</td>\n",
       "    </tr>\n",
       "    <tr>\n",
       "      <th>ib</th>\n",
       "      <td>53.00</td>\n",
       "      <td>1500.00</td>\n",
       "      <td>2940.00</td>\n",
       "      <td>3688.00</td>\n",
       "      <td>10217.00</td>\n",
       "    </tr>\n",
       "    <tr>\n",
       "      <th>niadj</th>\n",
       "      <td>53.00</td>\n",
       "      <td>1491.00</td>\n",
       "      <td>2925.00</td>\n",
       "      <td>3669.00</td>\n",
       "      <td>10188.00</td>\n",
       "    </tr>\n",
       "    <tr>\n",
       "      <th>epspx</th>\n",
       "      <td>0.02</td>\n",
       "      <td>0.62</td>\n",
       "      <td>1.12</td>\n",
       "      <td>1.31</td>\n",
       "      <td>3.56</td>\n",
       "    </tr>\n",
       "    <tr>\n",
       "      <th>epsfx</th>\n",
       "      <td>0.02</td>\n",
       "      <td>0.60</td>\n",
       "      <td>1.10</td>\n",
       "      <td>1.29</td>\n",
       "      <td>3.49</td>\n",
       "    </tr>\n",
       "  </tbody>\n",
       "</table>\n",
       "</div>"
      ],
      "text/plain": [
       "          2012     2013      2014      2015      2016\n",
       "revt   5089.00  7872.00  12466.00  17928.00  27638.00\n",
       "cogs    720.00   756.00    945.00    917.00   1448.00\n",
       "xsga   3187.00  3193.00   5297.00   8767.00  11356.00\n",
       "oibdp  1182.00  3923.00   6224.00   8244.00  14834.00\n",
       "oiadp   538.00  2921.00   4982.00   6294.00  12493.00\n",
       "xint     51.00    56.00     23.00     23.00     10.00\n",
       "nopi      7.00     6.00    -61.00     -8.00    101.00\n",
       "spi       0.00  -117.00     12.00    -69.00    -66.00\n",
       "pi      494.00  2754.00   4910.00   6194.00  12518.00\n",
       "txt     441.00  1254.00   1970.00   2506.00   2301.00\n",
       "ib       53.00  1500.00   2940.00   3688.00  10217.00\n",
       "niadj    53.00  1491.00   2925.00   3669.00  10188.00\n",
       "epspx     0.02     0.62      1.12      1.31      3.56\n",
       "epsfx     0.02     0.60      1.10      1.29      3.49"
      ]
     },
     "execution_count": 7,
     "metadata": {},
     "output_type": "execute_result"
    }
   ],
   "source": [
    "i"
   ]
  },
  {
   "cell_type": "code",
   "execution_count": null,
   "metadata": {
    "collapsed": true
   },
   "outputs": [],
   "source": []
  },
  {
   "cell_type": "markdown",
   "metadata": {},
   "source": [
    "#### Understand trends for various financial metrics and ratios"
   ]
  },
  {
   "cell_type": "code",
   "execution_count": 8,
   "metadata": {
    "collapsed": true
   },
   "outputs": [],
   "source": [
    "from data.scripts.simplified_finance_stats.capture_trends import get_trend_data"
   ]
  },
  {
   "cell_type": "code",
   "execution_count": 9,
   "metadata": {},
   "outputs": [
    {
     "ename": "ValueError",
     "evalue": "Cannot set a frame with no defined index and a value that cannot be converted to a Series",
     "output_type": "error",
     "traceback": [
      "\u001b[0;31m---------------------------------------------------------------------------\u001b[0m",
      "\u001b[0;31mValueError\u001b[0m                                Traceback (most recent call last)",
      "\u001b[0;32m<ipython-input-9-0eb68e3b1e1d>\u001b[0m in \u001b[0;36m<module>\u001b[0;34m()\u001b[0m\n\u001b[1;32m      9\u001b[0m \u001b[0;34m\u001b[0m\u001b[0m\n\u001b[1;32m     10\u001b[0m \u001b[0mdf_ratios\u001b[0m \u001b[0;34m=\u001b[0m \u001b[0mget_last_n_data\u001b[0m\u001b[0;34m(\u001b[0m\u001b[0mdf_ratios\u001b[0m\u001b[0;34m,\u001b[0m\u001b[0;36m15\u001b[0m\u001b[0;34m)\u001b[0m\u001b[0;34m\u001b[0m\u001b[0m\n\u001b[0;32m---> 11\u001b[0;31m \u001b[0md\u001b[0m \u001b[0;34m=\u001b[0m \u001b[0mget_trend_data\u001b[0m\u001b[0;34m(\u001b[0m\u001b[0mdf_ratios\u001b[0m\u001b[0;34m)\u001b[0m\u001b[0;34m\u001b[0m\u001b[0m\n\u001b[0m",
      "\u001b[0;32m/Users/liqiran/Desktop/ml_fa/data/scripts/simplified_finance_stats/capture_trends.py\u001b[0m in \u001b[0;36mget_trend_data\u001b[0;34m(df_t)\u001b[0m\n\u001b[1;32m     19\u001b[0m \u001b[0;34m\u001b[0m\u001b[0m\n\u001b[1;32m     20\u001b[0m     \u001b[0;31m# Recent value\u001b[0m\u001b[0;34m\u001b[0m\u001b[0;34m\u001b[0m\u001b[0m\n\u001b[0;32m---> 21\u001b[0;31m     \u001b[0mdf\u001b[0m\u001b[0;34m[\u001b[0m\u001b[0;34m'most_recent_value'\u001b[0m\u001b[0;34m]\u001b[0m \u001b[0;34m=\u001b[0m \u001b[0mdf_t\u001b[0m\u001b[0;34m[\u001b[0m\u001b[0;34m[\u001b[0m\u001b[0mdf_t\u001b[0m\u001b[0;34m.\u001b[0m\u001b[0mcolumns\u001b[0m\u001b[0;34m.\u001b[0m\u001b[0mtolist\u001b[0m\u001b[0;34m(\u001b[0m\u001b[0;34m)\u001b[0m\u001b[0;34m[\u001b[0m\u001b[0;34m-\u001b[0m\u001b[0;36m1\u001b[0m\u001b[0;34m]\u001b[0m\u001b[0;34m]\u001b[0m\u001b[0;34m]\u001b[0m\u001b[0;34m\u001b[0m\u001b[0m\n\u001b[0m\u001b[1;32m     22\u001b[0m     \u001b[0;31m# Mean and std_dev\u001b[0m\u001b[0;34m\u001b[0m\u001b[0;34m\u001b[0m\u001b[0m\n\u001b[1;32m     23\u001b[0m     \u001b[0mdf\u001b[0m\u001b[0;34m[\u001b[0m\u001b[0;34m'mean'\u001b[0m\u001b[0;34m]\u001b[0m \u001b[0;34m=\u001b[0m  \u001b[0mdf_t\u001b[0m\u001b[0;34m.\u001b[0m\u001b[0mmean\u001b[0m\u001b[0;34m(\u001b[0m\u001b[0maxis\u001b[0m\u001b[0;34m=\u001b[0m\u001b[0;36m1\u001b[0m\u001b[0;34m)\u001b[0m\u001b[0;34m\u001b[0m\u001b[0m\n",
      "\u001b[0;32m/Users/liqiran/anaconda2/lib/python2.7/site-packages/pandas/core/frame.pyc\u001b[0m in \u001b[0;36m__setitem__\u001b[0;34m(self, key, value)\u001b[0m\n\u001b[1;32m   2329\u001b[0m         \u001b[0;32melse\u001b[0m\u001b[0;34m:\u001b[0m\u001b[0;34m\u001b[0m\u001b[0m\n\u001b[1;32m   2330\u001b[0m             \u001b[0;31m# set column\u001b[0m\u001b[0;34m\u001b[0m\u001b[0;34m\u001b[0m\u001b[0m\n\u001b[0;32m-> 2331\u001b[0;31m             \u001b[0mself\u001b[0m\u001b[0;34m.\u001b[0m\u001b[0m_set_item\u001b[0m\u001b[0;34m(\u001b[0m\u001b[0mkey\u001b[0m\u001b[0;34m,\u001b[0m \u001b[0mvalue\u001b[0m\u001b[0;34m)\u001b[0m\u001b[0;34m\u001b[0m\u001b[0m\n\u001b[0m\u001b[1;32m   2332\u001b[0m \u001b[0;34m\u001b[0m\u001b[0m\n\u001b[1;32m   2333\u001b[0m     \u001b[0;32mdef\u001b[0m \u001b[0m_setitem_slice\u001b[0m\u001b[0;34m(\u001b[0m\u001b[0mself\u001b[0m\u001b[0;34m,\u001b[0m \u001b[0mkey\u001b[0m\u001b[0;34m,\u001b[0m \u001b[0mvalue\u001b[0m\u001b[0;34m)\u001b[0m\u001b[0;34m:\u001b[0m\u001b[0;34m\u001b[0m\u001b[0m\n",
      "\u001b[0;32m/Users/liqiran/anaconda2/lib/python2.7/site-packages/pandas/core/frame.pyc\u001b[0m in \u001b[0;36m_set_item\u001b[0;34m(self, key, value)\u001b[0m\n\u001b[1;32m   2394\u001b[0m         \"\"\"\n\u001b[1;32m   2395\u001b[0m \u001b[0;34m\u001b[0m\u001b[0m\n\u001b[0;32m-> 2396\u001b[0;31m         \u001b[0mself\u001b[0m\u001b[0;34m.\u001b[0m\u001b[0m_ensure_valid_index\u001b[0m\u001b[0;34m(\u001b[0m\u001b[0mvalue\u001b[0m\u001b[0;34m)\u001b[0m\u001b[0;34m\u001b[0m\u001b[0m\n\u001b[0m\u001b[1;32m   2397\u001b[0m         \u001b[0mvalue\u001b[0m \u001b[0;34m=\u001b[0m \u001b[0mself\u001b[0m\u001b[0;34m.\u001b[0m\u001b[0m_sanitize_column\u001b[0m\u001b[0;34m(\u001b[0m\u001b[0mkey\u001b[0m\u001b[0;34m,\u001b[0m \u001b[0mvalue\u001b[0m\u001b[0;34m)\u001b[0m\u001b[0;34m\u001b[0m\u001b[0m\n\u001b[1;32m   2398\u001b[0m         \u001b[0mNDFrame\u001b[0m\u001b[0;34m.\u001b[0m\u001b[0m_set_item\u001b[0m\u001b[0;34m(\u001b[0m\u001b[0mself\u001b[0m\u001b[0;34m,\u001b[0m \u001b[0mkey\u001b[0m\u001b[0;34m,\u001b[0m \u001b[0mvalue\u001b[0m\u001b[0;34m)\u001b[0m\u001b[0;34m\u001b[0m\u001b[0m\n",
      "\u001b[0;32m/Users/liqiran/anaconda2/lib/python2.7/site-packages/pandas/core/frame.pyc\u001b[0m in \u001b[0;36m_ensure_valid_index\u001b[0;34m(self, value)\u001b[0m\n\u001b[1;32m   2376\u001b[0m                 \u001b[0mvalue\u001b[0m \u001b[0;34m=\u001b[0m \u001b[0mSeries\u001b[0m\u001b[0;34m(\u001b[0m\u001b[0mvalue\u001b[0m\u001b[0;34m)\u001b[0m\u001b[0;34m\u001b[0m\u001b[0m\n\u001b[1;32m   2377\u001b[0m             \u001b[0;32mexcept\u001b[0m\u001b[0;34m:\u001b[0m\u001b[0;34m\u001b[0m\u001b[0m\n\u001b[0;32m-> 2378\u001b[0;31m                 raise ValueError('Cannot set a frame with no defined index '\n\u001b[0m\u001b[1;32m   2379\u001b[0m                                  \u001b[0;34m'and a value that cannot be converted to a '\u001b[0m\u001b[0;34m\u001b[0m\u001b[0m\n\u001b[1;32m   2380\u001b[0m                                  'Series')\n",
      "\u001b[0;31mValueError\u001b[0m: Cannot set a frame with no defined index and a value that cannot be converted to a Series"
     ]
    }
   ],
   "source": [
    "# Specify the timeline with last n years to get data from\n",
    "\n",
    "def get_last_n_data(df,n):\n",
    "    \"\"\"Returns the trend data for last n years\"\"\"\n",
    "    last_n_years = n\n",
    "    cols_to_keep = df.columns.tolist()[-1*last_n_years::]\n",
    "    df = df[cols_to_keep]\n",
    "    return df\n",
    "\n",
    "df_ratios = get_last_n_data(df_ratios,15)\n",
    "d = get_trend_data(df_ratios)"
   ]
  },
  {
   "cell_type": "code",
   "execution_count": null,
   "metadata": {
    "collapsed": true
   },
   "outputs": [],
   "source": [
    "d.head()"
   ]
  },
  {
   "cell_type": "markdown",
   "metadata": {},
   "source": [
    "Currently, get_trend_data, fits a linear regression model. In the above dataframe, the slope and constant are the outputs of the model. I believe fitting too complex models to financial data is not very helpful especially if we are looking into general trends. It is better to be roughly right than precisely wrong."
   ]
  },
  {
   "cell_type": "code",
   "execution_count": null,
   "metadata": {
    "collapsed": true
   },
   "outputs": [],
   "source": [
    "df_ratios.head()"
   ]
  },
  {
   "cell_type": "markdown",
   "metadata": {},
   "source": [
    "Plot regression and distribution of df_ratios dataframe"
   ]
  },
  {
   "cell_type": "code",
   "execution_count": null,
   "metadata": {
    "collapsed": true,
    "scrolled": false
   },
   "outputs": [],
   "source": [
    "# Plotting the data\n",
    "\n",
    "def plot_trends(df,df_trends):\n",
    "\n",
    "    x = np.asarray(df.columns.tolist())\n",
    "\n",
    "    for i, feature in enumerate(df.index.tolist()):\n",
    "        y = df.loc[feature].values\n",
    "        y2 = df_trends['slope'].loc[feature]*x + df_trends['constant'].loc[feature]\n",
    "        r2_val = round(df_trends['r2'].loc[feature],3)\n",
    "        \n",
    "        try:\n",
    "            # call regplot on each axes\n",
    "            fig, (ax1, ax2) = plt.subplots(ncols=2)\n",
    "            fig.set_size_inches(15,5)\n",
    "            sns.distplot(y,kde=1,bins=20,rug=1,norm_hist=0,color='g', ax=ax1)\n",
    "            ax1.set_title(tick + ' ' + feature + ' - Distribution')\n",
    "            sns.regplot(x, y,label='R2: ' + str(r2_val), ax=ax2)\n",
    "            ax2.set_title(tick + ' ' + feature + ' - Regression')\n",
    "            ax2.legend(loc='best')\n",
    "            plt.show()\n",
    "        except:\n",
    "            pass\n"
   ]
  },
  {
   "cell_type": "code",
   "execution_count": null,
   "metadata": {
    "collapsed": true,
    "scrolled": true
   },
   "outputs": [],
   "source": [
    "plot_trends(df_ratios,d)"
   ]
  },
  {
   "cell_type": "code",
   "execution_count": null,
   "metadata": {
    "collapsed": true
   },
   "outputs": [],
   "source": [
    "# Plot fundamental data\n",
    "all_fin_data = get_last_n_data(all_fin_data,12)\n",
    "d_trend_all = get_trend_data(all_fin_data)"
   ]
  },
  {
   "cell_type": "code",
   "execution_count": null,
   "metadata": {
    "collapsed": true,
    "scrolled": true
   },
   "outputs": [],
   "source": [
    "plot_trends(all_fin_data,d_trend_all)"
   ]
  },
  {
   "cell_type": "code",
   "execution_count": null,
   "metadata": {
    "collapsed": true,
    "scrolled": true
   },
   "outputs": [],
   "source": [
    "d_trend_all"
   ]
  },
  {
   "cell_type": "code",
   "execution_count": null,
   "metadata": {
    "collapsed": true
   },
   "outputs": [],
   "source": []
  },
  {
   "cell_type": "code",
   "execution_count": null,
   "metadata": {
    "collapsed": true
   },
   "outputs": [],
   "source": []
  }
 ],
 "metadata": {
  "kernelspec": {
   "display_name": "Python 2",
   "language": "python",
   "name": "python2"
  },
  "language_info": {
   "codemirror_mode": {
    "name": "ipython",
    "version": 2
   },
   "file_extension": ".py",
   "mimetype": "text/x-python",
   "name": "python",
   "nbconvert_exporter": "python",
   "pygments_lexer": "ipython2",
   "version": "2.7.14"
  }
 },
 "nbformat": 4,
 "nbformat_minor": 1
}
